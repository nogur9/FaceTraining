{
 "cells": [
  {
   "cell_type": "code",
   "execution_count": null,
   "metadata": {
    "id": "EZ7InLDXnbF9"
   },
   "outputs": [],
   "source": [
    "import cv2\n",
    "import dlib\n",
    "import matplotlib.pyplot as plt"
   ]
  },
  {
   "cell_type": "code",
   "execution_count": null,
   "metadata": {
    "id": "28Zia0hztJa_"
   },
   "outputs": [],
   "source": [
    "\n",
    "def detect_faces_dlib(image_path):\n",
    "    \"\"\"Detects faces in an image using Dlib's face detector.\n",
    "\n",
    "    Args:\n",
    "        image_path (str): The path to the image file.\n",
    "\n",
    "    Returns:\n",
    "        faces (list): A list of face bounding boxes.\n",
    "    \"\"\"\n",
    "\n",
    "    # Load the Dlib face detector\n",
    "    detector = dlib.get_frontal_face_detector()\n",
    "\n",
    "    # Load the image\n",
    "    img = cv2.imread(image_path)\n",
    "\n",
    "    # Detect faces\n",
    "    faces = detector(img, 1)\n",
    "\n",
    "    return faces"
   ]
  },
  {
   "cell_type": "code",
   "execution_count": null,
   "metadata": {
    "id": "gP2Sex78tSGA"
   },
   "outputs": [],
   "source": [
    "suffix = \"webp\"\n",
    "image_path = \"tom hardy4\"\n",
    "img = cv2.imread(f\"{image_path}.{suffix}\")\n",
    "faces = detect_faces_dlib(f\"{image_path}.{suffix}\")"
   ]
  },
  {
   "cell_type": "code",
   "execution_count": null,
   "metadata": {
    "colab": {
     "base_uri": "https://localhost:8080/"
    },
    "id": "ltluFEIkt4g5",
    "outputId": "790d344f-63c6-4f12-e99f-b4ec1cf247bc"
   },
   "outputs": [],
   "source": [
    "face = faces[0]\n",
    "x, y, w, h = face.left(), face.top(), face.width(), face.height()\n",
    "cropped_face = img[y:y+h, x:x+w]\n",
    "output_dir = \"cropped\"\n",
    "output_path = f\"{output_dir}/{image_path}.jpg\"\n",
    "\n",
    "cv2.imwrite(output_path, cropped_face)"
   ]
  },
  {
   "cell_type": "code",
   "execution_count": null,
   "metadata": {
    "colab": {
     "base_uri": "https://localhost:8080/",
     "height": 220
    },
    "id": "BKBCkJ_eDEIr",
    "outputId": "bd6de8f9-f5ed-44fd-977a-0738eb357302",
    "scrolled": true
   },
   "outputs": [],
   "source": [
    "for face in faces:\n",
    "    x, y, w, h = face.left(), face.top(), face.width(), face.height()\n",
    "    cv2.rectangle(img, (x, y), (x + w, y + h), (0, 255, 0), 2)\n",
    "    plt.imshow(img)"
   ]
  },
  {
   "cell_type": "code",
   "execution_count": null,
   "metadata": {},
   "outputs": [],
   "source": []
  }
 ],
 "metadata": {
  "colab": {
   "provenance": []
  },
  "kernelspec": {
   "display_name": "venv",
   "language": "python",
   "name": "venv"
  },
  "language_info": {
   "codemirror_mode": {
    "name": "ipython",
    "version": 3
   },
   "file_extension": ".py",
   "mimetype": "text/x-python",
   "name": "python",
   "nbconvert_exporter": "python",
   "pygments_lexer": "ipython3",
   "version": "3.12.6"
  }
 },
 "nbformat": 4,
 "nbformat_minor": 1
}
